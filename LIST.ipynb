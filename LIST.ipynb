{
 "cells": [
  {
   "cell_type": "code",
   "execution_count": 1,
   "id": "a0847d2a",
   "metadata": {},
   "outputs": [
    {
     "name": "stdout",
     "output_type": "stream",
     "text": [
      "['football', 'basketball', 'baseball', 'volleyball']\n"
     ]
    }
   ],
   "source": [
    "#list():this is used to create an ordered list, Example;\n",
    "Sports = list(('football', 'basketball', 'baseball', 'volleyball'))\n",
    "print(Sports)"
   ]
  },
  {
   "cell_type": "code",
   "execution_count": 2,
   "id": "3f186d51",
   "metadata": {},
   "outputs": [
    {
     "name": "stdout",
     "output_type": "stream",
     "text": [
      "football\n",
      "basketball\n",
      "baseball\n",
      "volleyball\n"
     ]
    }
   ],
   "source": [
    "#next(): this is used to get the next item from the list (if the list is an iterator), Example;\n",
    "Sports = iter(['football', 'basketball', 'baseball', 'volleyball'])\n",
    "x = next(Sports)\n",
    "print(x)\n",
    "x = next(Sports)\n",
    "print(x)\n",
    "x = next(Sports)\n",
    "print(x)\n",
    "x = next(Sports)\n",
    "print(x)\n",
    "#do not try to iterate through more than the number of elemants in the list, else an error will occur"
   ]
  },
  {
   "cell_type": "code",
   "execution_count": 3,
   "id": "a3dcb904",
   "metadata": {},
   "outputs": [
    {
     "name": "stdout",
     "output_type": "stream",
     "text": [
      "football\n"
     ]
    }
   ],
   "source": [
    "#choice(): this is used to return a random element from the list {you need to import random}, example;\n",
    "import random\n",
    "Sports = ['football', 'basketball', 'baseball', 'volleyball']\n",
    "print(random.choice(Sports))"
   ]
  },
  {
   "cell_type": "code",
   "execution_count": 4,
   "id": "64c2a37d",
   "metadata": {},
   "outputs": [
    {
     "name": "stdout",
     "output_type": "stream",
     "text": [
      "['football', 'basketball', 'volleyball']\n"
     ]
    }
   ],
   "source": [
    "#remove(): this is used to remove an element by specifying the element, Example;\n",
    "Sports.remove(\"baseball\")\n",
    "print(Sports)"
   ]
  },
  {
   "cell_type": "code",
   "execution_count": 5,
   "id": "5d86f3d5",
   "metadata": {},
   "outputs": [
    {
     "name": "stdout",
     "output_type": "stream",
     "text": [
      "['football', 'basketball', 'volleyball', 'baseball']\n"
     ]
    }
   ],
   "source": [
    "#append(): this is used to add an element by specifying the element,it adds the element as the last of the list, Example;\n",
    "Sports.append(\"baseball\")\n",
    "print(Sports)"
   ]
  },
  {
   "cell_type": "code",
   "execution_count": 6,
   "id": "b3fcc5ba",
   "metadata": {},
   "outputs": [
    {
     "name": "stdout",
     "output_type": "stream",
     "text": [
      "['baseball', 'volleyball', 'basketball', 'football']\n"
     ]
    }
   ],
   "source": [
    "#reverse(): this function reversesthe order of the list, Example;\n",
    "Sports.reverse()\n",
    "print(Sports)"
   ]
  },
  {
   "cell_type": "code",
   "execution_count": 7,
   "id": "8728f056",
   "metadata": {},
   "outputs": [
    {
     "name": "stdout",
     "output_type": "stream",
     "text": [
      "['baseball', 'basketball', 'football', 'volleyball']\n"
     ]
    }
   ],
   "source": [
    "#sort(): this is used to organises a list in ascending order , Example;\n",
    "Sports.sort()\n",
    "print(Sports)"
   ]
  },
  {
   "cell_type": "code",
   "execution_count": 8,
   "id": "9bda88f7",
   "metadata": {},
   "outputs": [
    {
     "name": "stdout",
     "output_type": "stream",
     "text": [
      "['baseball', 'basketball', 'football', 'volleyball']\n"
     ]
    }
   ],
   "source": [
    "#sorted() is used to return a sorted list from an iteratable objects (not only a list), Example;\n",
    "Sports = ['football', 'basketball', 'baseball', 'volleyball']\n",
    "x = sorted(Sports)\n",
    "print(x)"
   ]
  },
  {
   "cell_type": "code",
   "execution_count": 9,
   "id": "9edee7b7",
   "metadata": {},
   "outputs": [
    {
     "name": "stdout",
     "output_type": "stream",
     "text": [
      "['football', 'basketball', 'baseball']\n",
      "['football', 'baseball']\n"
     ]
    }
   ],
   "source": [
    "#pop() is like remove() only that it recieves the index of the element to be removed\n",
    "#(if no arguement is passed,it automatically removes the last element), Example;\n",
    "Sports.pop()\n",
    "print(Sports)\n",
    "Sports.pop(1)\n",
    "print(Sports)"
   ]
  },
  {
   "cell_type": "code",
   "execution_count": null,
   "id": "32efa3bd",
   "metadata": {},
   "outputs": [],
   "source": []
  }
 ],
 "metadata": {
  "kernelspec": {
   "display_name": "Python 3 (ipykernel)",
   "language": "python",
   "name": "python3"
  },
  "language_info": {
   "codemirror_mode": {
    "name": "ipython",
    "version": 3
   },
   "file_extension": ".py",
   "mimetype": "text/x-python",
   "name": "python",
   "nbconvert_exporter": "python",
   "pygments_lexer": "ipython3",
   "version": "3.11.5"
  }
 },
 "nbformat": 4,
 "nbformat_minor": 5
}
