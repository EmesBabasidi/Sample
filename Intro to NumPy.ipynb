{
 "cells": [
  {
   "cell_type": "markdown",
   "id": "fa6422ad",
   "metadata": {},
   "source": [
    "To see more info on any function, place the blinking cusor before the function brackets and press shift+tab"
   ]
  },
  {
   "cell_type": "code",
   "execution_count": 1,
   "id": "8644cdd3",
   "metadata": {},
   "outputs": [],
   "source": [
    "#To use the numpy Library, you must initially import it\n",
    "import numpy as np"
   ]
  },
  {
   "cell_type": "code",
   "execution_count": 2,
   "id": "073fed6b",
   "metadata": {},
   "outputs": [],
   "source": [
    "#creating an array (An Array must have the same data type, most operations performed with arrays are mathematical Ops.\n",
    "List = [1,2,23,45,4,7,8]\n",
    "#a data type can be passed to the array function as a parameter. The datatypes are int,float,str,complex\n",
    "array = np.array(List, dtype = complex)"
   ]
  },
  {
   "cell_type": "code",
   "execution_count": 3,
   "id": "6e9a49d1",
   "metadata": {},
   "outputs": [
    {
     "data": {
      "text/plain": [
       "numpy.ndarray"
      ]
     },
     "execution_count": 3,
     "metadata": {},
     "output_type": "execute_result"
    }
   ],
   "source": [
    "#to check the type of data an array is\n",
    "type(array)"
   ]
  },
  {
   "cell_type": "code",
   "execution_count": 4,
   "id": "11efd618",
   "metadata": {},
   "outputs": [
    {
     "name": "stdout",
     "output_type": "stream",
     "text": [
      "[ 1.+0.j  2.+0.j 23.+0.j 45.+0.j  4.+0.j  7.+0.j  8.+0.j]\n"
     ]
    }
   ],
   "source": [
    "print(array)"
   ]
  },
  {
   "cell_type": "code",
   "execution_count": 5,
   "id": "06e2ddbf",
   "metadata": {},
   "outputs": [
    {
     "data": {
      "text/plain": [
       "(7,)"
      ]
     },
     "execution_count": 5,
     "metadata": {},
     "output_type": "execute_result"
    }
   ],
   "source": [
    "array.shape"
   ]
  },
  {
   "cell_type": "code",
   "execution_count": 6,
   "id": "db56fdca",
   "metadata": {},
   "outputs": [
    {
     "data": {
      "text/plain": [
       "array([1.+0.j, 3.+0.j, 4.+0.j, 7.+0.j, 9.+0.j])"
      ]
     },
     "execution_count": 6,
     "metadata": {},
     "output_type": "execute_result"
    }
   ],
   "source": [
    "#instead of just creating a list variable and passing it to the array fxn, you can pass the list into the array directly.\n",
    "#when one of the elements is a float type, all elements take the float dtype(also applicable to complex dtype.\n",
    "np.array([1.0,3.0,4.0,7.0+0.j,9])"
   ]
  },
  {
   "cell_type": "code",
   "execution_count": 7,
   "id": "5bc355ef",
   "metadata": {},
   "outputs": [],
   "source": [
    "#multiple lists can be created and passed to the array function as shown below\n",
    "List1 = [1,2,3,4,5]\n",
    "List2 = [6,7,8,9,10]\n",
    "List3 = [11,12,13,14,15]\n",
    "List4 = [16,17,18,19,20]\n",
    "arr = np.array([List1,List2,List3,List4])"
   ]
  },
  {
   "cell_type": "code",
   "execution_count": 8,
   "id": "f5a0ff61",
   "metadata": {},
   "outputs": [
    {
     "name": "stdout",
     "output_type": "stream",
     "text": [
      "[[ 1  2  3  4  5]\n",
      " [ 6  7  8  9 10]\n",
      " [11 12 13 14 15]\n",
      " [16 17 18 19 20]]\n"
     ]
    }
   ],
   "source": [
    "print(arr)"
   ]
  },
  {
   "cell_type": "code",
   "execution_count": 9,
   "id": "25fdc588",
   "metadata": {},
   "outputs": [
    {
     "data": {
      "text/plain": [
       "(4, 5)"
      ]
     },
     "execution_count": 9,
     "metadata": {},
     "output_type": "execute_result"
    }
   ],
   "source": [
    "# The shape function returns the number of rows and columns in an array \n",
    "arr.shape"
   ]
  },
  {
   "cell_type": "code",
   "execution_count": 10,
   "id": "9b9c8c24",
   "metadata": {},
   "outputs": [
    {
     "data": {
      "text/plain": [
       "array([[ 1,  2,  3,  4],\n",
       "       [ 5,  6,  7,  8],\n",
       "       [ 9, 10, 11, 12],\n",
       "       [13, 14, 15, 16],\n",
       "       [17, 18, 19, 20]])"
      ]
     },
     "execution_count": 10,
     "metadata": {},
     "output_type": "execute_result"
    }
   ],
   "source": [
    "#the reshape fxn changes the array to a desired shape(i.e number of rows and columns) \n",
    "#provided that it's a multiple of the original array\n",
    "arr.reshape(5,4)"
   ]
  },
  {
   "cell_type": "code",
   "execution_count": 11,
   "id": "12e69796",
   "metadata": {},
   "outputs": [
    {
     "data": {
      "text/plain": [
       "array([[ 1,  2,  3],\n",
       "       [ 6,  7,  8],\n",
       "       [11, 12, 13]])"
      ]
     },
     "execution_count": 11,
     "metadata": {},
     "output_type": "execute_result"
    }
   ],
   "source": [
    "#Accessing a multidimensional array using row index and column index\n",
    "#[row index,column index] in both cases a:b mean from index \"a\" to index \"b-1\"\n",
    "#When no number is passed for example [:] it means accesss everything\n",
    "#when no ending is specified for example [a:] it means from index \"a\" to the last element \n",
    "arr[0:3,0:3]"
   ]
  },
  {
   "cell_type": "code",
   "execution_count": 12,
   "id": "cbeaef88",
   "metadata": {},
   "outputs": [
    {
     "name": "stdout",
     "output_type": "stream",
     "text": [
      "[0.  1.5 3.  4.5 6.  7.5 9. ]\n"
     ]
    }
   ],
   "source": [
    "#A 1D array can be created by using the np.arange fxn which recieves the start and end, interval(step) and also the dtype\n",
    "arr = np.arange(0,10, step = 1.5, dtype = float)\n",
    "print(arr)"
   ]
  },
  {
   "cell_type": "code",
   "execution_count": 13,
   "id": "79fdb799",
   "metadata": {},
   "outputs": [
    {
     "name": "stdout",
     "output_type": "stream",
     "text": [
      "[ 0.          1.11111111  2.22222222  3.33333333  4.44444444  5.55555556\n",
      "  6.66666667  7.77777778  8.88888889 10.        ]\n"
     ]
    }
   ],
   "source": [
    "#This function linspace() Return evenly spaced numbers over a specified interval\n",
    "#It recieves the starting and ending numbers,number of values with decimals to be generated and other parameters\n",
    "#(press shift+tab before parenthesis of the function to see more info\n",
    "array7 = np.linspace(0,10,10)\n",
    "print(array7)"
   ]
  },
  {
   "cell_type": "code",
   "execution_count": 14,
   "id": "097ad322",
   "metadata": {},
   "outputs": [
    {
     "name": "stdout",
     "output_type": "stream",
     "text": [
      "[ 0.          1.11111111 20.         20.         20.         20.\n",
      " 20.         20.         20.         10.        ]\n"
     ]
    }
   ],
   "source": [
    "#the example below is called broadcasting i.e changing the element of an array\n",
    "array7[2:9] = 20\n",
    "print(array7)"
   ]
  },
  {
   "cell_type": "code",
   "execution_count": 15,
   "id": "6937efaf",
   "metadata": {},
   "outputs": [
    {
     "name": "stdout",
     "output_type": "stream",
     "text": [
      "This is for addition  [ 4  5  6  7  8  9 10 11 12]\n",
      "This is for subtraction [-1  0  1  2  3  4  5  6  7]\n"
     ]
    }
   ],
   "source": [
    "#Scalar arithemtic operations can be performed on an array, for example:\n",
    "arr3 = np.array([1,2,3,4,5,6,7,8,9])\n",
    "add = arr3 + 3\n",
    "print(\"This is for addition \",add)\n",
    "sub = arr3 - 2\n",
    "print(\"This is for subtraction\", sub)\n",
    "#other operations can be performed in a similar manner"
   ]
  },
  {
   "cell_type": "code",
   "execution_count": 16,
   "id": "2e1e72e2",
   "metadata": {},
   "outputs": [
    {
     "name": "stdout",
     "output_type": "stream",
     "text": [
      "This is for less than [1 2 3]\n",
      "This is for greater than [4 5 6 7 8 9]\n"
     ]
    }
   ],
   "source": [
    "#Conditional operations can also be performed, for example:\n",
    "less = arr3[arr3<4]\n",
    "print(\"This is for less than\", less)\n",
    "greater = arr3[arr3>3]\n",
    "print(\"This is for greater than\", greater)\n",
    "#other operations like \"!=\",\"==\", \"<=\", and \"=>\" can be performed in a similar manner\n",
    "#also multiple conditional statements can be passed within the square braces"
   ]
  },
  {
   "cell_type": "code",
   "execution_count": 17,
   "id": "8585706c",
   "metadata": {},
   "outputs": [
    {
     "data": {
      "text/plain": [
       "array([1., 1., 1., 1., 1., 1., 1.])"
      ]
     },
     "execution_count": 17,
     "metadata": {},
     "output_type": "execute_result"
    }
   ],
   "source": [
    "#to create array with one as all it's element, the function np.ones() is used for example\n",
    "#the funcion recieves the shape of the array and dtype(optional) as it's by default set to float\n",
    "np.ones(7)"
   ]
  },
  {
   "cell_type": "code",
   "execution_count": 18,
   "id": "b48d54e9",
   "metadata": {},
   "outputs": [
    {
     "data": {
      "text/plain": [
       "array([[1.+0.j, 1.+0.j, 1.+0.j, 1.+0.j],\n",
       "       [1.+0.j, 1.+0.j, 1.+0.j, 1.+0.j],\n",
       "       [1.+0.j, 1.+0.j, 1.+0.j, 1.+0.j]])"
      ]
     },
     "execution_count": 18,
     "metadata": {},
     "output_type": "execute_result"
    }
   ],
   "source": [
    "#if the array has some numbers of rows and columns, it should be passed to the function as (a,b) \n",
    "# as \"a\" is the number of rows and \"b\" is the nummber of columns\n",
    "np.ones((3,4), dtype = complex)"
   ]
  },
  {
   "cell_type": "code",
   "execution_count": 19,
   "id": "1a4f287f",
   "metadata": {},
   "outputs": [
    {
     "data": {
      "text/plain": [
       "array([[0.79697599, 0.04562935, 0.01973718],\n",
       "       [0.77031181, 0.12520393, 0.3587778 ],\n",
       "       [0.69832968, 0.47332787, 0.53652241],\n",
       "       [0.73850921, 0.89966516, 0.63875868]])"
      ]
     },
     "execution_count": 19,
     "metadata": {},
     "output_type": "execute_result"
    }
   ],
   "source": [
    "#This function create an array of the given shape and populate it with\n",
    "#random samples from a uniform distribution that is within 0 and 1\n",
    "np.random.rand(4,3)"
   ]
  },
  {
   "cell_type": "code",
   "execution_count": 20,
   "id": "22bb3497",
   "metadata": {},
   "outputs": [
    {
     "data": {
      "text/plain": [
       "array([[ 0.62415196, -0.17151261],\n",
       "       [ 1.01680841,  1.52992166],\n",
       "       [ 0.4479357 ,  1.21069811],\n",
       "       [ 1.78609577,  0.78107127]])"
      ]
     },
     "execution_count": 20,
     "metadata": {},
     "output_type": "execute_result"
    }
   ],
   "source": [
    "np.random.randn(4,2)"
   ]
  },
  {
   "cell_type": "code",
   "execution_count": 21,
   "id": "3404a2d0",
   "metadata": {},
   "outputs": [
    {
     "data": {
      "text/plain": [
       "array([[31, 30, 81, 22, 61],\n",
       "       [67, 55, 16, 29, 77]])"
      ]
     },
     "execution_count": 21,
     "metadata": {},
     "output_type": "execute_result"
    }
   ],
   "source": [
    "#this function recieves the range of values the random no. will be selected from and also how many numbers will be slected\n",
    "#the data type is always int\n",
    "np.random.randint(1,100,10).reshape(2,5)"
   ]
  },
  {
   "cell_type": "code",
   "execution_count": null,
   "id": "36cdbfb0",
   "metadata": {},
   "outputs": [],
   "source": []
  }
 ],
 "metadata": {
  "kernelspec": {
   "display_name": "Python 3 (ipykernel)",
   "language": "python",
   "name": "python3"
  },
  "language_info": {
   "codemirror_mode": {
    "name": "ipython",
    "version": 3
   },
   "file_extension": ".py",
   "mimetype": "text/x-python",
   "name": "python",
   "nbconvert_exporter": "python",
   "pygments_lexer": "ipython3",
   "version": "3.11.5"
  }
 },
 "nbformat": 4,
 "nbformat_minor": 5
}
